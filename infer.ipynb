{
 "cells": [
  {
   "cell_type": "markdown",
   "id": "d8b9d57a",
   "metadata": {},
   "source": [
    "### The Dataset\n",
    "\n",
    "For this interview, we'll use a semi-synthetic dataset based on the Lalonde dataset, which was originally used to evaluate the impact of a job training program. You have a CSV file (`lalonde.csv`) with the following key columns:\n",
    "\n",
    "* **`treat`**: `integer` - A binary variable indicating whether the individual participated in the job training program (1 = treated, 0 = control). This is your intervention.\n",
    "* **`age`**: `integer` - Age of the individual in years.\n",
    "* **`educ`**: `integer` - Years of education.\n",
    "* **`black`**: `integer` - A binary variable indicating if the individual is Black (1) or not (0).\n",
    "* **`hispan`**: `integer` - A binary variable indicating if the individual is Hispanic (1) or not (0).\n",
    "* **`married`**: `integer` - A binary variable indicating if the individual is married (1) or not (0).\n",
    "* **`nodegree`**: `integer` - A binary variable indicating if the individual has no high school degree (1) or not (0).\n",
    "* **`re74`**: `float` - Real earnings in 1974 (pre-intervention).\n",
    "* **`re75`**: `float` - Real earnings in 1975 (pre-intervention).\n",
    "* **`re78`**: `float` - Real earnings in 1978 (post-intervention). This is your primary outcome variable.\n",
    "\n",
    "### The Problem Statement\n",
    "\n",
    "We will use this dataset related to a job training program. The government implemented this program to help unemployed individuals increase their earnings and improve their employment prospects.\n",
    "\n",
    "Your task for the next hour is to **estimate the causal effect of this job training program (`treat`) on real earnings in 1978 (`re78`).**\n",
    "\n",
    "We want you to:\n",
    "\n",
    "1.  **Explore the Data:**\n",
    "    * Briefly describe the dataset.\n",
    "    * What are the key variables relevant to the analysis?\n",
    "    * Are there any immediate concerns regarding selection bias or confounding variables based on the data description?\n",
    "2.  **Propose a Causal Inference Strategy:**\n",
    "    * How would you approach estimating the causal effect?\n",
    "    * Discuss the specific method(s) you would choose.\n",
    "    * What are the key assumptions of your chosen method(s) in the context of this problem?\n",
    "    * What are the potential challenges or limitations you anticipate?\n",
    "3.  **Implementation and Evaluation**\n",
    "    * Implement and evaluate your proposal while describing your thoughts. \n",
    "\n",
    "Good luck! You can start whenever you're ready!"
   ]
  },
  {
   "cell_type": "markdown",
   "id": "8d15014f",
   "metadata": {},
   "source": []
  }
 ],
 "metadata": {
  "language_info": {
   "name": "python"
  }
 },
 "nbformat": 4,
 "nbformat_minor": 5
}
